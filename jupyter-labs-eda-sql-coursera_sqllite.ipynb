{
 "cells": [
  {
   "cell_type": "code",
   "execution_count": null,
   "metadata": {},
   "outputs": [],
   "source": []
  },
  {
   "cell_type": "markdown",
   "metadata": {},
   "source": [
    "<p style=\"text-align:center\">\n",
    "    <a href=\"https://skills.network/?utm_medium=Exinfluencer&utm_source=Exinfluencer&utm_content=000026UJ&utm_term=10006555&utm_id=NA-SkillsNetwork-Channel-SkillsNetworkCoursesIBMDS0321ENSkillsNetwork865-2022-01-01\" target=\"_blank\">\n",
    "    <img src=\"https://cf-courses-data.s3.us.cloud-object-storage.appdomain.cloud/assets/logos/SN_web_lightmode.png\" width=\"200\" alt=\"Skills Network Logo\"  />\n",
    "    </a>\n",
    "</p>\n",
    "\n",
    "<h1 align=center><font size = 5>Assignment: SQL Notebook for Peer Assignment</font></h1>\n",
    "\n",
    "Estimated time needed: **60** minutes.\n",
    "\n",
    "## Introduction\n",
    "Using this Python notebook you will:\n",
    "\n",
    "1.  Understand the Spacex DataSet\n",
    "2.  Load the dataset  into the corresponding table in a Db2 database\n",
    "3.  Execute SQL queries to answer assignment questions \n"
   ]
  },
  {
   "cell_type": "markdown",
   "metadata": {},
   "source": [
    "## Overview of the DataSet\n",
    "\n",
    "SpaceX has gained worldwide attention for a series of historic milestones. \n",
    "\n",
    "It is the only private company ever to return a spacecraft from low-earth orbit, which it first accomplished in December 2010.\n",
    "SpaceX advertises Falcon 9 rocket launches on its website with a cost of 62 million dollars wheras other providers cost upward of 165 million dollars each, much of the savings is because Space X can reuse the first stage. \n",
    "\n",
    "\n",
    "Therefore if we can determine if the first stage will land, we can determine the cost of a launch. \n",
    "\n",
    "This information can be used if an alternate company wants to bid against SpaceX for a rocket launch.\n",
    "\n",
    "This dataset includes a record for each payload carried during a SpaceX mission into outer space.\n"
   ]
  },
  {
   "cell_type": "markdown",
   "metadata": {},
   "source": [
    "### Download the datasets\n",
    "\n",
    "This assignment requires you to load the spacex dataset.\n",
    "\n",
    "In many cases the dataset to be analyzed is available as a .CSV (comma separated values) file, perhaps on the internet. Click on the link below to download and save the dataset (.CSV file):\n",
    "\n",
    " <a href=\"https://cf-courses-data.s3.us.cloud-object-storage.appdomain.cloud/IBM-DS0321EN-SkillsNetwork/labs/module_2/data/Spacex.csv\" target=\"_blank\">Spacex DataSet</a>\n",
    "\n"
   ]
  },
  {
   "cell_type": "code",
   "execution_count": 14,
   "metadata": {},
   "outputs": [
    {
     "ename": "SyntaxError",
     "evalue": "invalid syntax (4056914025.py, line 2)",
     "output_type": "error",
     "traceback": [
      "\u001b[0;36m  File \u001b[0;32m\"/var/folders/0d/lxlh20c917v3pzbbzp1jdgv40000gn/T/ipykernel_11421/4056914025.py\"\u001b[0;36m, line \u001b[0;32m2\u001b[0m\n\u001b[0;31m    pip install pandas\u001b[0m\n\u001b[0m        ^\u001b[0m\n\u001b[0;31mSyntaxError\u001b[0m\u001b[0;31m:\u001b[0m invalid syntax\n"
     ]
    }
   ],
   "source": [
    "#!pip install --upgrade sqlalchemy"
   ]
  },
  {
   "cell_type": "markdown",
   "metadata": {},
   "source": [
    "### Connect to the database\n",
    "\n",
    "Let us first load the SQL extension and establish a connection with the database\n"
   ]
  },
  {
   "cell_type": "code",
   "execution_count": 1,
   "metadata": {},
   "outputs": [
    {
     "name": "stdout",
     "output_type": "stream",
     "text": [
      "Collecting sqlalchemy==1.3.9\n",
      "  Downloading SQLAlchemy-1.3.9.tar.gz (6.0 MB)\n",
      "\u001b[2K     \u001b[90m━━━━━━━━━━━━━━━━━━━━━━━━━━━━━━━━━━━━━━━━\u001b[0m \u001b[32m6.0/6.0 MB\u001b[0m \u001b[31m235.3 kB/s\u001b[0m eta \u001b[36m0:00:00\u001b[0m00:01\u001b[0m00:01\u001b[0m\n",
      "\u001b[?25h  Preparing metadata (setup.py) ... \u001b[?25ldone\n",
      "\u001b[?25hBuilding wheels for collected packages: sqlalchemy\n",
      "  Building wheel for sqlalchemy (setup.py) ... \u001b[?25ldone\n",
      "\u001b[?25h  Created wheel for sqlalchemy: filename=SQLAlchemy-1.3.9-cp39-cp39-macosx_10_9_x86_64.whl size=1153933 sha256=c7724664b694b4f1f55809530870623c5793591c0c920664e3b841bfc3a4399c\n",
      "  Stored in directory: /Users/georgesutcliffe/Library/Caches/pip/wheels/5b/43/0d/de1699809f9e6aaa54a97275298fa07075cb19acc557b18955\n",
      "Successfully built sqlalchemy\n",
      "Installing collected packages: sqlalchemy\n",
      "  Attempting uninstall: sqlalchemy\n",
      "    Found existing installation: SQLAlchemy 2.0.6\n",
      "    Uninstalling SQLAlchemy-2.0.6:\n",
      "      Successfully uninstalled SQLAlchemy-2.0.6\n",
      "Successfully installed sqlalchemy-1.3.9\n",
      "Collecting ibm_db_sa\n",
      "  Downloading ibm_db_sa-0.3.9-py3-none-any.whl (30 kB)\n",
      "Requirement already satisfied: sqlalchemy>=0.7.3 in /Users/georgesutcliffe/opt/anaconda3/lib/python3.9/site-packages (from ibm_db_sa) (1.3.9)\n",
      "Collecting ibm-db>=2.0.0\n",
      "  Downloading ibm_db-3.1.4.tar.gz (1.4 MB)\n",
      "\u001b[2K     \u001b[90m━━━━━━━━━━━━━━━━━━━━━━━━━━━━━━━━━━━━━━━━\u001b[0m \u001b[32m1.4/1.4 MB\u001b[0m \u001b[31m155.4 kB/s\u001b[0m eta \u001b[36m0:00:00\u001b[0m00:01\u001b[0m00:01\u001b[0m\n",
      "\u001b[?25h  Installing build dependencies ... \u001b[?25ldone\n",
      "\u001b[?25h  Getting requirements to build wheel ... \u001b[?25ldone\n",
      "\u001b[?25h  Installing backend dependencies ... \u001b[?25ldone\n",
      "\u001b[?25h  Preparing metadata (pyproject.toml) ... \u001b[?25ldone\n",
      "\u001b[?25hBuilding wheels for collected packages: ibm-db\n",
      "  Building wheel for ibm-db (pyproject.toml) ... \u001b[?25ldone\n",
      "\u001b[?25h  Created wheel for ibm-db: filename=ibm_db-3.1.4-cp39-cp39-macosx_10_15_x86_64.whl size=32403647 sha256=8728673a504e230a5e22aababf25caf75065b32f8bf70c2331e6771ee6cb8982\n",
      "  Stored in directory: /Users/georgesutcliffe/Library/Caches/pip/wheels/7b/2d/a5/26b4ad8bcc66c7e90efe5c8a6e20c26d5327ff82161e6b1490\n",
      "Successfully built ibm-db\n",
      "Installing collected packages: ibm-db, ibm_db_sa\n",
      "Successfully installed ibm-db-3.1.4 ibm_db_sa-0.3.9\n",
      "Collecting ipython-sql\n",
      "  Downloading ipython_sql-0.5.0-py3-none-any.whl (20 kB)\n",
      "Requirement already satisfied: ipython in /Users/georgesutcliffe/opt/anaconda3/lib/python3.9/site-packages (from ipython-sql) (7.31.1)\n",
      "Collecting sqlalchemy>=2.0\n",
      "  Using cached SQLAlchemy-2.0.6-cp39-cp39-macosx_10_9_x86_64.whl (2.0 MB)\n",
      "Collecting prettytable\n",
      "  Downloading prettytable-3.6.0-py3-none-any.whl (27 kB)\n",
      "Requirement already satisfied: six in /Users/georgesutcliffe/opt/anaconda3/lib/python3.9/site-packages (from ipython-sql) (1.16.0)\n",
      "Collecting sqlparse\n",
      "  Downloading sqlparse-0.4.3-py3-none-any.whl (42 kB)\n",
      "\u001b[2K     \u001b[90m━━━━━━━━━━━━━━━━━━━━━━━━━━━━━━━━━━━━━━━━\u001b[0m \u001b[32m42.8/42.8 kB\u001b[0m \u001b[31m1.2 MB/s\u001b[0m eta \u001b[36m0:00:00\u001b[0m\n",
      "\u001b[?25hRequirement already satisfied: ipython-genutils in /Users/georgesutcliffe/opt/anaconda3/lib/python3.9/site-packages (from ipython-sql) (0.2.0)\n",
      "Requirement already satisfied: greenlet!=0.4.17 in /Users/georgesutcliffe/opt/anaconda3/lib/python3.9/site-packages (from sqlalchemy>=2.0->ipython-sql) (1.1.1)\n",
      "Requirement already satisfied: typing-extensions>=4.2.0 in /Users/georgesutcliffe/opt/anaconda3/lib/python3.9/site-packages (from sqlalchemy>=2.0->ipython-sql) (4.3.0)\n",
      "Requirement already satisfied: pexpect>4.3 in /Users/georgesutcliffe/opt/anaconda3/lib/python3.9/site-packages (from ipython->ipython-sql) (4.8.0)\n",
      "Requirement already satisfied: backcall in /Users/georgesutcliffe/opt/anaconda3/lib/python3.9/site-packages (from ipython->ipython-sql) (0.2.0)\n",
      "Requirement already satisfied: pickleshare in /Users/georgesutcliffe/opt/anaconda3/lib/python3.9/site-packages (from ipython->ipython-sql) (0.7.5)\n",
      "Requirement already satisfied: pygments in /Users/georgesutcliffe/opt/anaconda3/lib/python3.9/site-packages (from ipython->ipython-sql) (2.11.2)\n",
      "Requirement already satisfied: appnope in /Users/georgesutcliffe/opt/anaconda3/lib/python3.9/site-packages (from ipython->ipython-sql) (0.1.2)\n",
      "Requirement already satisfied: matplotlib-inline in /Users/georgesutcliffe/opt/anaconda3/lib/python3.9/site-packages (from ipython->ipython-sql) (0.1.6)\n",
      "Requirement already satisfied: prompt-toolkit!=3.0.0,!=3.0.1,<3.1.0,>=2.0.0 in /Users/georgesutcliffe/opt/anaconda3/lib/python3.9/site-packages (from ipython->ipython-sql) (3.0.20)\n",
      "Requirement already satisfied: decorator in /Users/georgesutcliffe/opt/anaconda3/lib/python3.9/site-packages (from ipython->ipython-sql) (5.1.1)\n",
      "Requirement already satisfied: jedi>=0.16 in /Users/georgesutcliffe/opt/anaconda3/lib/python3.9/site-packages (from ipython->ipython-sql) (0.18.1)\n",
      "Requirement already satisfied: setuptools>=18.5 in /Users/georgesutcliffe/opt/anaconda3/lib/python3.9/site-packages (from ipython->ipython-sql) (63.4.1)\n",
      "Requirement already satisfied: traitlets>=4.2 in /Users/georgesutcliffe/opt/anaconda3/lib/python3.9/site-packages (from ipython->ipython-sql) (5.1.1)\n",
      "Requirement already satisfied: wcwidth in /Users/georgesutcliffe/opt/anaconda3/lib/python3.9/site-packages (from prettytable->ipython-sql) (0.2.5)\n",
      "Requirement already satisfied: parso<0.9.0,>=0.8.0 in /Users/georgesutcliffe/opt/anaconda3/lib/python3.9/site-packages (from jedi>=0.16->ipython->ipython-sql) (0.8.3)\n",
      "Requirement already satisfied: ptyprocess>=0.5 in /Users/georgesutcliffe/opt/anaconda3/lib/python3.9/site-packages (from pexpect>4.3->ipython->ipython-sql) (0.7.0)\n",
      "Installing collected packages: sqlparse, sqlalchemy, prettytable, ipython-sql\n",
      "  Attempting uninstall: sqlalchemy\n",
      "    Found existing installation: SQLAlchemy 1.3.9\n",
      "    Uninstalling SQLAlchemy-1.3.9:\n",
      "      Successfully uninstalled SQLAlchemy-1.3.9\n",
      "Successfully installed ipython-sql-0.5.0 prettytable-3.6.0 sqlalchemy-2.0.6 sqlparse-0.4.3\n"
     ]
    }
   ],
   "source": [
    "# !pip install sqlalchemy==1.3.9\n",
    "# !pip install ibm_db_sa\n",
    "# !pip install ipython-sql"
   ]
  },
  {
   "cell_type": "code",
   "execution_count": 2,
   "metadata": {},
   "outputs": [],
   "source": [
    "%load_ext sql"
   ]
  },
  {
   "cell_type": "code",
   "execution_count": 3,
   "metadata": {},
   "outputs": [],
   "source": [
    "import csv, sqlite3\n",
    "\n",
    "con = sqlite3.connect(\"my_data1.db\")\n",
    "cur = con.cursor()"
   ]
  },
  {
   "cell_type": "code",
   "execution_count": 4,
   "metadata": {},
   "outputs": [],
   "source": [
    "#!pip install -q pandas==1.1.5"
   ]
  },
  {
   "cell_type": "code",
   "execution_count": 5,
   "metadata": {},
   "outputs": [],
   "source": [
    "%sql sqlite:///my_data1.db"
   ]
  },
  {
   "cell_type": "code",
   "execution_count": 6,
   "metadata": {},
   "outputs": [
    {
     "data": {
      "text/plain": [
       "101"
      ]
     },
     "execution_count": 6,
     "metadata": {},
     "output_type": "execute_result"
    }
   ],
   "source": [
    "import pandas as pd\n",
    "df = pd.read_csv(\"https://cf-courses-data.s3.us.cloud-object-storage.appdomain.cloud/IBM-DS0321EN-SkillsNetwork/labs/module_2/data/Spacex.csv\")\n",
    "df.to_sql(\"SPACEXTBL\", con, if_exists='replace', index=False,method=\"multi\")"
   ]
  },
  {
   "cell_type": "markdown",
   "metadata": {},
   "source": [
    "## Tasks\n",
    "\n",
    "Now write and execute SQL queries to solve the assignment tasks.\n",
    "\n",
    "**Note: If the column names are in mixed case enclose it in double quotes\n",
    "   For Example \"Landing_Outcome\"**\n",
    "\n",
    "### Task 1\n",
    "\n",
    "\n",
    "\n",
    "\n",
    "##### Display the names of the unique launch sites  in the space mission\n"
   ]
  },
  {
   "cell_type": "code",
   "execution_count": 7,
   "metadata": {},
   "outputs": [
    {
     "name": "stdout",
     "output_type": "stream",
     "text": [
      " * sqlite:///my_data1.db\n",
      "Done.\n"
     ]
    },
    {
     "data": {
      "text/html": [
       "<table>\n",
       "    <thead>\n",
       "        <tr>\n",
       "            <th>(&#x27;Landing _Outcome&#x27;)</th>\n",
       "        </tr>\n",
       "    </thead>\n",
       "    <tbody>\n",
       "        <tr>\n",
       "            <td>Landing _Outcome</td>\n",
       "        </tr>\n",
       "    </tbody>\n",
       "</table>"
      ],
      "text/plain": [
       "[('Landing _Outcome',)]"
      ]
     },
     "execution_count": 7,
     "metadata": {},
     "output_type": "execute_result"
    }
   ],
   "source": [
    "%%sql\n",
    "SELECT DISTINCT('Landing _Outcome') FROM SPACEXTBL;\n",
    "\n"
   ]
  },
  {
   "cell_type": "code",
   "execution_count": 8,
   "metadata": {},
   "outputs": [
    {
     "name": "stdout",
     "output_type": "stream",
     "text": [
      " * sqlite:///my_data1.db\n",
      "Done.\n"
     ]
    },
    {
     "data": {
      "text/html": [
       "<table>\n",
       "    <thead>\n",
       "        <tr>\n",
       "            <th>Launch_Site</th>\n",
       "        </tr>\n",
       "    </thead>\n",
       "    <tbody>\n",
       "        <tr>\n",
       "            <td>CCAFS LC-40</td>\n",
       "        </tr>\n",
       "        <tr>\n",
       "            <td>VAFB SLC-4E</td>\n",
       "        </tr>\n",
       "        <tr>\n",
       "            <td>KSC LC-39A</td>\n",
       "        </tr>\n",
       "        <tr>\n",
       "            <td>CCAFS SLC-40</td>\n",
       "        </tr>\n",
       "    </tbody>\n",
       "</table>"
      ],
      "text/plain": [
       "[('CCAFS LC-40',), ('VAFB SLC-4E',), ('KSC LC-39A',), ('CCAFS SLC-40',)]"
      ]
     },
     "execution_count": 8,
     "metadata": {},
     "output_type": "execute_result"
    }
   ],
   "source": [
    "%%sql\n",
    "SELECT DISTINCT(Launch_Site) FROM SPACEXTBL;"
   ]
  },
  {
   "cell_type": "markdown",
   "metadata": {},
   "source": [
    "\n",
    "### Task 2\n",
    "\n",
    "\n",
    "#####  Display 5 records where launch sites begin with the string 'CCA' \n"
   ]
  },
  {
   "cell_type": "code",
   "execution_count": 15,
   "metadata": {},
   "outputs": [
    {
     "name": "stdout",
     "output_type": "stream",
     "text": [
      " * sqlite:///my_data1.db\n",
      "Done.\n"
     ]
    },
    {
     "data": {
      "text/html": [
       "<table>\n",
       "    <thead>\n",
       "        <tr>\n",
       "            <th>Date</th>\n",
       "            <th>Time (UTC)</th>\n",
       "            <th>Booster_Version</th>\n",
       "            <th>Launch_Site</th>\n",
       "            <th>Payload</th>\n",
       "            <th>PAYLOAD_MASS__KG_</th>\n",
       "            <th>Orbit</th>\n",
       "            <th>Customer</th>\n",
       "            <th>Mission_Outcome</th>\n",
       "            <th>Landing _Outcome</th>\n",
       "        </tr>\n",
       "    </thead>\n",
       "    <tbody>\n",
       "        <tr>\n",
       "            <td>04-06-2010</td>\n",
       "            <td>18:45:00</td>\n",
       "            <td>F9 v1.0  B0003</td>\n",
       "            <td>CCAFS LC-40</td>\n",
       "            <td>Dragon Spacecraft Qualification Unit</td>\n",
       "            <td>0</td>\n",
       "            <td>LEO</td>\n",
       "            <td>SpaceX</td>\n",
       "            <td>Success</td>\n",
       "            <td>Failure (parachute)</td>\n",
       "        </tr>\n",
       "        <tr>\n",
       "            <td>08-12-2010</td>\n",
       "            <td>15:43:00</td>\n",
       "            <td>F9 v1.0  B0004</td>\n",
       "            <td>CCAFS LC-40</td>\n",
       "            <td>Dragon demo flight C1, two CubeSats, barrel of Brouere cheese</td>\n",
       "            <td>0</td>\n",
       "            <td>LEO (ISS)</td>\n",
       "            <td>NASA (COTS) NRO</td>\n",
       "            <td>Success</td>\n",
       "            <td>Failure (parachute)</td>\n",
       "        </tr>\n",
       "        <tr>\n",
       "            <td>22-05-2012</td>\n",
       "            <td>07:44:00</td>\n",
       "            <td>F9 v1.0  B0005</td>\n",
       "            <td>CCAFS LC-40</td>\n",
       "            <td>Dragon demo flight C2</td>\n",
       "            <td>525</td>\n",
       "            <td>LEO (ISS)</td>\n",
       "            <td>NASA (COTS)</td>\n",
       "            <td>Success</td>\n",
       "            <td>No attempt</td>\n",
       "        </tr>\n",
       "        <tr>\n",
       "            <td>08-10-2012</td>\n",
       "            <td>00:35:00</td>\n",
       "            <td>F9 v1.0  B0006</td>\n",
       "            <td>CCAFS LC-40</td>\n",
       "            <td>SpaceX CRS-1</td>\n",
       "            <td>500</td>\n",
       "            <td>LEO (ISS)</td>\n",
       "            <td>NASA (CRS)</td>\n",
       "            <td>Success</td>\n",
       "            <td>No attempt</td>\n",
       "        </tr>\n",
       "        <tr>\n",
       "            <td>01-03-2013</td>\n",
       "            <td>15:10:00</td>\n",
       "            <td>F9 v1.0  B0007</td>\n",
       "            <td>CCAFS LC-40</td>\n",
       "            <td>SpaceX CRS-2</td>\n",
       "            <td>677</td>\n",
       "            <td>LEO (ISS)</td>\n",
       "            <td>NASA (CRS)</td>\n",
       "            <td>Success</td>\n",
       "            <td>No attempt</td>\n",
       "        </tr>\n",
       "    </tbody>\n",
       "</table>"
      ],
      "text/plain": [
       "[('04-06-2010', '18:45:00', 'F9 v1.0  B0003', 'CCAFS LC-40', 'Dragon Spacecraft Qualification Unit', 0, 'LEO', 'SpaceX', 'Success', 'Failure (parachute)'),\n",
       " ('08-12-2010', '15:43:00', 'F9 v1.0  B0004', 'CCAFS LC-40', 'Dragon demo flight C1, two CubeSats, barrel of Brouere cheese', 0, 'LEO (ISS)', 'NASA (COTS) NRO', 'Success', 'Failure (parachute)'),\n",
       " ('22-05-2012', '07:44:00', 'F9 v1.0  B0005', 'CCAFS LC-40', 'Dragon demo flight C2', 525, 'LEO (ISS)', 'NASA (COTS)', 'Success', 'No attempt'),\n",
       " ('08-10-2012', '00:35:00', 'F9 v1.0  B0006', 'CCAFS LC-40', 'SpaceX CRS-1', 500, 'LEO (ISS)', 'NASA (CRS)', 'Success', 'No attempt'),\n",
       " ('01-03-2013', '15:10:00', 'F9 v1.0  B0007', 'CCAFS LC-40', 'SpaceX CRS-2', 677, 'LEO (ISS)', 'NASA (CRS)', 'Success', 'No attempt')]"
      ]
     },
     "execution_count": 15,
     "metadata": {},
     "output_type": "execute_result"
    }
   ],
   "source": [
    "%%sql\n",
    "SELECT * FROM SPACEXTBL\n",
    "WHERE Launch_Site LIKE 'CCA%'\n",
    "LIMIT 5;"
   ]
  },
  {
   "cell_type": "markdown",
   "metadata": {},
   "source": [
    "### Task 3\n",
    "\n",
    "\n",
    "\n",
    "\n",
    "##### Display the total payload mass carried by boosters launched by NASA (CRS)\n"
   ]
  },
  {
   "cell_type": "code",
   "execution_count": 23,
   "metadata": {},
   "outputs": [
    {
     "name": "stdout",
     "output_type": "stream",
     "text": [
      " * sqlite:///my_data1.db\n",
      "Done.\n"
     ]
    },
    {
     "data": {
      "text/html": [
       "<table>\n",
       "    <thead>\n",
       "        <tr>\n",
       "            <th>SUM(PAYLOAD_MASS__KG_)</th>\n",
       "        </tr>\n",
       "    </thead>\n",
       "    <tbody>\n",
       "        <tr>\n",
       "            <td>99980</td>\n",
       "        </tr>\n",
       "    </tbody>\n",
       "</table>"
      ],
      "text/plain": [
       "[(99980,)]"
      ]
     },
     "execution_count": 23,
     "metadata": {},
     "output_type": "execute_result"
    }
   ],
   "source": [
    "%%sql\n",
    "SELECT SUM(PAYLOAD_MASS__KG_) FROM SPACEXTBL\n",
    "WHERE Customer LIKE 'NASA%'\n",
    ";"
   ]
  },
  {
   "cell_type": "markdown",
   "metadata": {},
   "source": [
    "### Task 4\n",
    "\n",
    "\n",
    "\n",
    "\n",
    "##### Display average payload mass carried by booster version F9 v1.1\n"
   ]
  },
  {
   "cell_type": "code",
   "execution_count": 25,
   "metadata": {},
   "outputs": [
    {
     "name": "stdout",
     "output_type": "stream",
     "text": [
      " * sqlite:///my_data1.db\n",
      "Done.\n"
     ]
    },
    {
     "data": {
      "text/html": [
       "<table>\n",
       "    <thead>\n",
       "        <tr>\n",
       "            <th>AVG(PAYLOAD_MASS__KG_)</th>\n",
       "        </tr>\n",
       "    </thead>\n",
       "    <tbody>\n",
       "        <tr>\n",
       "            <td>2534.6666666666665</td>\n",
       "        </tr>\n",
       "    </tbody>\n",
       "</table>"
      ],
      "text/plain": [
       "[(2534.6666666666665,)]"
      ]
     },
     "execution_count": 25,
     "metadata": {},
     "output_type": "execute_result"
    }
   ],
   "source": [
    "%%sql\n",
    "SELECT AVG(PAYLOAD_MASS__KG_) FROM SPACEXTBL\n",
    "WHERE Booster_Version LIKE 'F9 v1.1%'\n",
    ";"
   ]
  },
  {
   "cell_type": "markdown",
   "metadata": {},
   "source": [
    "### Task 5\n",
    "\n",
    "##### List the date when the first succesful landing outcome in ground pad was acheived.\n",
    "\n",
    "\n",
    "_Hint:Use min function_ \n"
   ]
  },
  {
   "cell_type": "code",
   "execution_count": 54,
   "metadata": {},
   "outputs": [
    {
     "name": "stdout",
     "output_type": "stream",
     "text": [
      " * sqlite:///my_data1.db\n",
      "Done.\n"
     ]
    },
    {
     "data": {
      "text/html": [
       "<table>\n",
       "    <thead>\n",
       "        <tr>\n",
       "            <th>MIN(DATE)</th>\n",
       "        </tr>\n",
       "    </thead>\n",
       "    <tbody>\n",
       "        <tr>\n",
       "            <td>01-05-2017</td>\n",
       "        </tr>\n",
       "    </tbody>\n",
       "</table>"
      ],
      "text/plain": [
       "[('01-05-2017',)]"
      ]
     },
     "execution_count": 54,
     "metadata": {},
     "output_type": "execute_result"
    }
   ],
   "source": [
    "%%sql\n",
    "SELECT MIN(DATE) FROM SPACEXTBL\n",
    "WHERE \"Landing _Outcome\" = \"Success (ground pad)\";"
   ]
  },
  {
   "cell_type": "markdown",
   "metadata": {},
   "source": [
    "### Task 6\n",
    "\n",
    "##### List the names of the boosters which have success in drone ship and have payload mass greater than 4000 but less than 6000\n"
   ]
  },
  {
   "cell_type": "code",
   "execution_count": 61,
   "metadata": {},
   "outputs": [
    {
     "name": "stdout",
     "output_type": "stream",
     "text": [
      " * sqlite:///my_data1.db\n",
      "Done.\n"
     ]
    },
    {
     "data": {
      "text/html": [
       "<table>\n",
       "    <thead>\n",
       "        <tr>\n",
       "            <th>Booster_Version</th>\n",
       "        </tr>\n",
       "    </thead>\n",
       "    <tbody>\n",
       "        <tr>\n",
       "            <td>F9 FT B1021.1</td>\n",
       "        </tr>\n",
       "        <tr>\n",
       "            <td>F9 FT B1022</td>\n",
       "        </tr>\n",
       "        <tr>\n",
       "            <td>F9 FT B1023.1</td>\n",
       "        </tr>\n",
       "        <tr>\n",
       "            <td>F9 FT B1026</td>\n",
       "        </tr>\n",
       "        <tr>\n",
       "            <td>F9 FT B1029.1</td>\n",
       "        </tr>\n",
       "        <tr>\n",
       "            <td>F9 FT  B1021.2</td>\n",
       "        </tr>\n",
       "        <tr>\n",
       "            <td>F9 FT  B1029.2</td>\n",
       "        </tr>\n",
       "        <tr>\n",
       "            <td>F9 FT B1036.1</td>\n",
       "        </tr>\n",
       "        <tr>\n",
       "            <td>F9 FT B1038.1</td>\n",
       "        </tr>\n",
       "        <tr>\n",
       "            <td>F9 B4 B1041.1</td>\n",
       "        </tr>\n",
       "        <tr>\n",
       "            <td>F9 FT  B1031.2</td>\n",
       "        </tr>\n",
       "        <tr>\n",
       "            <td>F9 B4 B1042.1</td>\n",
       "        </tr>\n",
       "        <tr>\n",
       "            <td>F9 B4 B1045.1</td>\n",
       "        </tr>\n",
       "        <tr>\n",
       "            <td>F9 B5  B1046.1</td>\n",
       "        </tr>\n",
       "    </tbody>\n",
       "</table>"
      ],
      "text/plain": [
       "[('F9 FT B1021.1',),\n",
       " ('F9 FT B1022',),\n",
       " ('F9 FT B1023.1',),\n",
       " ('F9 FT B1026',),\n",
       " ('F9 FT B1029.1',),\n",
       " ('F9 FT  B1021.2',),\n",
       " ('F9 FT  B1029.2',),\n",
       " ('F9 FT B1036.1',),\n",
       " ('F9 FT B1038.1',),\n",
       " ('F9 B4 B1041.1',),\n",
       " ('F9 FT  B1031.2',),\n",
       " ('F9 B4 B1042.1',),\n",
       " ('F9 B4 B1045.1',),\n",
       " ('F9 B5  B1046.1',)]"
      ]
     },
     "execution_count": 61,
     "metadata": {},
     "output_type": "execute_result"
    }
   ],
   "source": [
    "%%sql\n",
    "SELECT Booster_Version FROM SPACEXTBL\n",
    "WHERE \"Landing _Outcome\" = \"Success (drone ship)\"\n",
    "AND 4000 < PAYLOAD_MASS__KG_ < 6000;"
   ]
  },
  {
   "cell_type": "markdown",
   "metadata": {},
   "source": [
    "### Task 7\n",
    "\n",
    "\n",
    "\n",
    "\n",
    "##### List the total number of successful and failure mission outcomes\n"
   ]
  },
  {
   "cell_type": "code",
   "execution_count": 72,
   "metadata": {},
   "outputs": [
    {
     "name": "stdout",
     "output_type": "stream",
     "text": [
      " * sqlite:///my_data1.db\n",
      "Done.\n"
     ]
    },
    {
     "data": {
      "text/html": [
       "<table>\n",
       "    <thead>\n",
       "        <tr>\n",
       "            <th>COUNT(*)</th>\n",
       "        </tr>\n",
       "    </thead>\n",
       "    <tbody>\n",
       "        <tr>\n",
       "            <td>100</td>\n",
       "        </tr>\n",
       "    </tbody>\n",
       "</table>"
      ],
      "text/plain": [
       "[(100,)]"
      ]
     },
     "execution_count": 72,
     "metadata": {},
     "output_type": "execute_result"
    }
   ],
   "source": [
    "%%sql\n",
    "SELECT COUNT(*) FROM SPACEXTBL\n",
    "WHERE Mission_Outcome LIKE \"%Success%\";"
   ]
  },
  {
   "cell_type": "code",
   "execution_count": 73,
   "metadata": {},
   "outputs": [
    {
     "name": "stdout",
     "output_type": "stream",
     "text": [
      " * sqlite:///my_data1.db\n",
      "Done.\n"
     ]
    },
    {
     "data": {
      "text/html": [
       "<table>\n",
       "    <thead>\n",
       "        <tr>\n",
       "            <th>COUNT(*)</th>\n",
       "        </tr>\n",
       "    </thead>\n",
       "    <tbody>\n",
       "        <tr>\n",
       "            <td>1</td>\n",
       "        </tr>\n",
       "    </tbody>\n",
       "</table>"
      ],
      "text/plain": [
       "[(1,)]"
      ]
     },
     "execution_count": 73,
     "metadata": {},
     "output_type": "execute_result"
    }
   ],
   "source": [
    "%%sql\n",
    "SELECT COUNT(*) FROM SPACEXTBL\n",
    "WHERE Mission_Outcome LIKE \"%Failure%\";"
   ]
  },
  {
   "cell_type": "code",
   "execution_count": 68,
   "metadata": {},
   "outputs": [
    {
     "name": "stdout",
     "output_type": "stream",
     "text": [
      " * sqlite:///my_data1.db\n",
      "Done.\n"
     ]
    },
    {
     "data": {
      "text/html": [
       "<table>\n",
       "    <thead>\n",
       "        <tr>\n",
       "            <th>COUNT(*)</th>\n",
       "        </tr>\n",
       "    </thead>\n",
       "    <tbody>\n",
       "        <tr>\n",
       "            <td>101</td>\n",
       "        </tr>\n",
       "    </tbody>\n",
       "</table>"
      ],
      "text/plain": [
       "[(101,)]"
      ]
     },
     "execution_count": 68,
     "metadata": {},
     "output_type": "execute_result"
    }
   ],
   "source": [
    "%%sql\n",
    "SELECT COUNT(*) FROM SPACEXTBL;"
   ]
  },
  {
   "cell_type": "markdown",
   "metadata": {},
   "source": [
    "### Task 8\n",
    "\n",
    "\n",
    "\n",
    "##### List the   names of the booster_versions which have carried the maximum payload mass. Use a subquery\n"
   ]
  },
  {
   "cell_type": "code",
   "execution_count": 76,
   "metadata": {},
   "outputs": [
    {
     "name": "stdout",
     "output_type": "stream",
     "text": [
      " * sqlite:///my_data1.db\n",
      "Done.\n"
     ]
    },
    {
     "data": {
      "text/html": [
       "<table>\n",
       "    <thead>\n",
       "        <tr>\n",
       "            <th>Booster_Version</th>\n",
       "        </tr>\n",
       "    </thead>\n",
       "    <tbody>\n",
       "        <tr>\n",
       "            <td>F9 B5 B1048.4</td>\n",
       "        </tr>\n",
       "        <tr>\n",
       "            <td>F9 B5 B1049.4</td>\n",
       "        </tr>\n",
       "        <tr>\n",
       "            <td>F9 B5 B1051.3</td>\n",
       "        </tr>\n",
       "        <tr>\n",
       "            <td>F9 B5 B1056.4</td>\n",
       "        </tr>\n",
       "        <tr>\n",
       "            <td>F9 B5 B1048.5</td>\n",
       "        </tr>\n",
       "        <tr>\n",
       "            <td>F9 B5 B1051.4</td>\n",
       "        </tr>\n",
       "        <tr>\n",
       "            <td>F9 B5 B1049.5</td>\n",
       "        </tr>\n",
       "        <tr>\n",
       "            <td>F9 B5 B1060.2 </td>\n",
       "        </tr>\n",
       "        <tr>\n",
       "            <td>F9 B5 B1058.3 </td>\n",
       "        </tr>\n",
       "        <tr>\n",
       "            <td>F9 B5 B1051.6</td>\n",
       "        </tr>\n",
       "        <tr>\n",
       "            <td>F9 B5 B1060.3</td>\n",
       "        </tr>\n",
       "        <tr>\n",
       "            <td>F9 B5 B1049.7 </td>\n",
       "        </tr>\n",
       "    </tbody>\n",
       "</table>"
      ],
      "text/plain": [
       "[('F9 B5 B1048.4',),\n",
       " ('F9 B5 B1049.4',),\n",
       " ('F9 B5 B1051.3',),\n",
       " ('F9 B5 B1056.4',),\n",
       " ('F9 B5 B1048.5',),\n",
       " ('F9 B5 B1051.4',),\n",
       " ('F9 B5 B1049.5',),\n",
       " ('F9 B5 B1060.2 ',),\n",
       " ('F9 B5 B1058.3 ',),\n",
       " ('F9 B5 B1051.6',),\n",
       " ('F9 B5 B1060.3',),\n",
       " ('F9 B5 B1049.7 ',)]"
      ]
     },
     "execution_count": 76,
     "metadata": {},
     "output_type": "execute_result"
    }
   ],
   "source": [
    "%%sql\n",
    "SELECT DISTINCT(Booster_Version) FROM SPACEXTBL\n",
    "WHERE PAYLOAD_MASS__KG_ = (SELECT MAX(PAYLOAD_MASS__KG_) FROM SPACEXTBL)\n",
    ";"
   ]
  },
  {
   "cell_type": "markdown",
   "metadata": {},
   "source": [
    "### Task 9\n",
    "\n",
    "\n",
    "##### List the records which will display the month names, failure landing_outcomes in drone ship ,booster versions, launch_site for the months in year 2015.\n",
    "\n",
    "**Note: SQLLite does not support monthnames. So you need to use  substr(Date, 4, 2) as month to get the months and substr(Date,7,4)='2015' for year.**\n"
   ]
  },
  {
   "cell_type": "code",
   "execution_count": 11,
   "metadata": {},
   "outputs": [
    {
     "name": "stdout",
     "output_type": "stream",
     "text": [
      " * sqlite:///my_data1.db\n",
      "Done.\n"
     ]
    },
    {
     "data": {
      "text/html": [
       "<table>\n",
       "    <thead>\n",
       "        <tr>\n",
       "            <th>Date</th>\n",
       "            <th>Time (UTC)</th>\n",
       "            <th>Booster_Version</th>\n",
       "            <th>Launch_Site</th>\n",
       "            <th>Payload</th>\n",
       "            <th>PAYLOAD_MASS__KG_</th>\n",
       "            <th>Orbit</th>\n",
       "            <th>Customer</th>\n",
       "            <th>Mission_Outcome</th>\n",
       "            <th>Landing _Outcome</th>\n",
       "        </tr>\n",
       "    </thead>\n",
       "    <tbody>\n",
       "        <tr>\n",
       "            <td>04-06-2010</td>\n",
       "            <td>18:45:00</td>\n",
       "            <td>F9 v1.0  B0003</td>\n",
       "            <td>CCAFS LC-40</td>\n",
       "            <td>Dragon Spacecraft Qualification Unit</td>\n",
       "            <td>0</td>\n",
       "            <td>LEO</td>\n",
       "            <td>SpaceX</td>\n",
       "            <td>Success</td>\n",
       "            <td>Failure (parachute)</td>\n",
       "        </tr>\n",
       "        <tr>\n",
       "            <td>08-12-2010</td>\n",
       "            <td>15:43:00</td>\n",
       "            <td>F9 v1.0  B0004</td>\n",
       "            <td>CCAFS LC-40</td>\n",
       "            <td>Dragon demo flight C1, two CubeSats, barrel of Brouere cheese</td>\n",
       "            <td>0</td>\n",
       "            <td>LEO (ISS)</td>\n",
       "            <td>NASA (COTS) NRO</td>\n",
       "            <td>Success</td>\n",
       "            <td>Failure (parachute)</td>\n",
       "        </tr>\n",
       "        <tr>\n",
       "            <td>22-05-2012</td>\n",
       "            <td>07:44:00</td>\n",
       "            <td>F9 v1.0  B0005</td>\n",
       "            <td>CCAFS LC-40</td>\n",
       "            <td>Dragon demo flight C2</td>\n",
       "            <td>525</td>\n",
       "            <td>LEO (ISS)</td>\n",
       "            <td>NASA (COTS)</td>\n",
       "            <td>Success</td>\n",
       "            <td>No attempt</td>\n",
       "        </tr>\n",
       "        <tr>\n",
       "            <td>08-10-2012</td>\n",
       "            <td>00:35:00</td>\n",
       "            <td>F9 v1.0  B0006</td>\n",
       "            <td>CCAFS LC-40</td>\n",
       "            <td>SpaceX CRS-1</td>\n",
       "            <td>500</td>\n",
       "            <td>LEO (ISS)</td>\n",
       "            <td>NASA (CRS)</td>\n",
       "            <td>Success</td>\n",
       "            <td>No attempt</td>\n",
       "        </tr>\n",
       "        <tr>\n",
       "            <td>01-03-2013</td>\n",
       "            <td>15:10:00</td>\n",
       "            <td>F9 v1.0  B0007</td>\n",
       "            <td>CCAFS LC-40</td>\n",
       "            <td>SpaceX CRS-2</td>\n",
       "            <td>677</td>\n",
       "            <td>LEO (ISS)</td>\n",
       "            <td>NASA (CRS)</td>\n",
       "            <td>Success</td>\n",
       "            <td>No attempt</td>\n",
       "        </tr>\n",
       "    </tbody>\n",
       "</table>"
      ],
      "text/plain": [
       "[('04-06-2010', '18:45:00', 'F9 v1.0  B0003', 'CCAFS LC-40', 'Dragon Spacecraft Qualification Unit', 0, 'LEO', 'SpaceX', 'Success', 'Failure (parachute)'),\n",
       " ('08-12-2010', '15:43:00', 'F9 v1.0  B0004', 'CCAFS LC-40', 'Dragon demo flight C1, two CubeSats, barrel of Brouere cheese', 0, 'LEO (ISS)', 'NASA (COTS) NRO', 'Success', 'Failure (parachute)'),\n",
       " ('22-05-2012', '07:44:00', 'F9 v1.0  B0005', 'CCAFS LC-40', 'Dragon demo flight C2', 525, 'LEO (ISS)', 'NASA (COTS)', 'Success', 'No attempt'),\n",
       " ('08-10-2012', '00:35:00', 'F9 v1.0  B0006', 'CCAFS LC-40', 'SpaceX CRS-1', 500, 'LEO (ISS)', 'NASA (CRS)', 'Success', 'No attempt'),\n",
       " ('01-03-2013', '15:10:00', 'F9 v1.0  B0007', 'CCAFS LC-40', 'SpaceX CRS-2', 677, 'LEO (ISS)', 'NASA (CRS)', 'Success', 'No attempt')]"
      ]
     },
     "execution_count": 11,
     "metadata": {},
     "output_type": "execute_result"
    }
   ],
   "source": [
    "%%sql\n",
    "SELECT * FROM SPACEXTBL LIMIT 5;"
   ]
  },
  {
   "cell_type": "markdown",
   "metadata": {},
   "source": [
    "Planning:\n",
    "SELECT Date,  Booster_Version, Launch_Site, Landing_Outcome FROM\n",
    "\n",
    "WHERE YEAR = 2015 (substr(Date,7,4)='2015')\n",
    "WHERE \"Landing _Outcome\" = \"Failure (drone ship)\"\n",
    "%%sql\n",
    "SELECT DISTINCT(Booster_Version) FROM SPACEXTBL\n",
    "WHERE PAYLOAD_MASS__KG_ = (SELECT MAX(PAYLOAD_MASS__KG_) FROM SPACEXTBL)\n",
    ";"
   ]
  },
  {
   "cell_type": "code",
   "execution_count": 22,
   "metadata": {},
   "outputs": [
    {
     "name": "stdout",
     "output_type": "stream",
     "text": [
      " * sqlite:///my_data1.db\n",
      "Done.\n"
     ]
    },
    {
     "data": {
      "text/html": [
       "<table>\n",
       "    <thead>\n",
       "        <tr>\n",
       "            <th>substr(Date, 4, 2)</th>\n",
       "            <th>Booster_Version</th>\n",
       "            <th>Launch_Site</th>\n",
       "            <th>Landing _Outcome</th>\n",
       "        </tr>\n",
       "    </thead>\n",
       "    <tbody>\n",
       "        <tr>\n",
       "            <td>01</td>\n",
       "            <td>F9 v1.1 B1012</td>\n",
       "            <td>CCAFS LC-40</td>\n",
       "            <td>Failure (drone ship)</td>\n",
       "        </tr>\n",
       "        <tr>\n",
       "            <td>04</td>\n",
       "            <td>F9 v1.1 B1015</td>\n",
       "            <td>CCAFS LC-40</td>\n",
       "            <td>Failure (drone ship)</td>\n",
       "        </tr>\n",
       "    </tbody>\n",
       "</table>"
      ],
      "text/plain": [
       "[('01', 'F9 v1.1 B1012', 'CCAFS LC-40', 'Failure (drone ship)'),\n",
       " ('04', 'F9 v1.1 B1015', 'CCAFS LC-40', 'Failure (drone ship)')]"
      ]
     },
     "execution_count": 22,
     "metadata": {},
     "output_type": "execute_result"
    }
   ],
   "source": [
    "%%sql\n",
    "SELECT substr(Date, 4, 2), Booster_Version, Launch_Site, \"Landing _Outcome\" FROM SPACEXTBL\n",
    "WHERE \"Landing _Outcome\" = \"Failure (drone ship)\" AND substr(Date,7,4)='2015'\n",
    ";"
   ]
  },
  {
   "cell_type": "markdown",
   "metadata": {},
   "source": [
    "### Task 10\n",
    "\n",
    "\n",
    "\n",
    "\n",
    "##### Rank the  count of  successful landing_outcomes between the date 04-06-2010 and 20-03-2017 in descending order.\n"
   ]
  },
  {
   "cell_type": "code",
   "execution_count": 36,
   "metadata": {},
   "outputs": [
    {
     "name": "stdout",
     "output_type": "stream",
     "text": [
      " * sqlite:///my_data1.db\n",
      "Done.\n"
     ]
    },
    {
     "data": {
      "text/html": [
       "<table>\n",
       "    <thead>\n",
       "        <tr>\n",
       "            <th>Date</th>\n",
       "            <th>Time (UTC)</th>\n",
       "            <th>Booster_Version</th>\n",
       "            <th>Launch_Site</th>\n",
       "            <th>Payload</th>\n",
       "            <th>PAYLOAD_MASS__KG_</th>\n",
       "            <th>Orbit</th>\n",
       "            <th>Customer</th>\n",
       "            <th>Mission_Outcome</th>\n",
       "            <th>Landing _Outcome</th>\n",
       "        </tr>\n",
       "    </thead>\n",
       "    <tbody>\n",
       "        <tr>\n",
       "            <td>08-04-2016</td>\n",
       "            <td>20:43:00</td>\n",
       "            <td>F9 FT B1021.1</td>\n",
       "            <td>CCAFS LC-40</td>\n",
       "            <td>SpaceX CRS-8</td>\n",
       "            <td>3136</td>\n",
       "            <td>LEO (ISS)</td>\n",
       "            <td>NASA (CRS)</td>\n",
       "            <td>Success</td>\n",
       "            <td>Success (drone ship)</td>\n",
       "        </tr>\n",
       "        <tr>\n",
       "            <td>06-05-2016</td>\n",
       "            <td>05:21:00</td>\n",
       "            <td>F9 FT B1022</td>\n",
       "            <td>CCAFS LC-40</td>\n",
       "            <td>JCSAT-14</td>\n",
       "            <td>4696</td>\n",
       "            <td>GTO</td>\n",
       "            <td>SKY Perfect JSAT Group</td>\n",
       "            <td>Success</td>\n",
       "            <td>Success (drone ship)</td>\n",
       "        </tr>\n",
       "        <tr>\n",
       "            <td>18-07-2016</td>\n",
       "            <td>04:45:00</td>\n",
       "            <td>F9 FT B1025.1</td>\n",
       "            <td>CCAFS LC-40</td>\n",
       "            <td>SpaceX CRS-9</td>\n",
       "            <td>2257</td>\n",
       "            <td>LEO (ISS)</td>\n",
       "            <td>NASA (CRS)</td>\n",
       "            <td>Success</td>\n",
       "            <td>Success (ground pad)</td>\n",
       "        </tr>\n",
       "        <tr>\n",
       "            <td>14-08-2016</td>\n",
       "            <td>05:26:00</td>\n",
       "            <td>F9 FT B1026</td>\n",
       "            <td>CCAFS LC-40</td>\n",
       "            <td>JCSAT-16</td>\n",
       "            <td>4600</td>\n",
       "            <td>GTO</td>\n",
       "            <td>SKY Perfect JSAT Group</td>\n",
       "            <td>Success</td>\n",
       "            <td>Success (drone ship)</td>\n",
       "        </tr>\n",
       "        <tr>\n",
       "            <td>14-01-2017</td>\n",
       "            <td>17:54:00</td>\n",
       "            <td>F9 FT B1029.1</td>\n",
       "            <td>VAFB SLC-4E</td>\n",
       "            <td>Iridium NEXT 1</td>\n",
       "            <td>9600</td>\n",
       "            <td>Polar LEO</td>\n",
       "            <td>Iridium Communications</td>\n",
       "            <td>Success</td>\n",
       "            <td>Success (drone ship)</td>\n",
       "        </tr>\n",
       "        <tr>\n",
       "            <td>19-02-2017</td>\n",
       "            <td>14:39:00</td>\n",
       "            <td>F9 FT B1031.1</td>\n",
       "            <td>KSC LC-39A</td>\n",
       "            <td>SpaceX CRS-10</td>\n",
       "            <td>2490</td>\n",
       "            <td>LEO (ISS)</td>\n",
       "            <td>NASA (CRS)</td>\n",
       "            <td>Success</td>\n",
       "            <td>Success (ground pad)</td>\n",
       "        </tr>\n",
       "        <tr>\n",
       "            <td>14-08-2017</td>\n",
       "            <td>16:31:00</td>\n",
       "            <td>F9 B4 B1039.1</td>\n",
       "            <td>KSC LC-39A</td>\n",
       "            <td>SpaceX CRS-12</td>\n",
       "            <td>3310</td>\n",
       "            <td>LEO (ISS)</td>\n",
       "            <td>NASA (CRS)</td>\n",
       "            <td>Success</td>\n",
       "            <td>Success (ground pad)</td>\n",
       "        </tr>\n",
       "        <tr>\n",
       "            <td>07-09-2017</td>\n",
       "            <td>14:00:00</td>\n",
       "            <td>F9 B4 B1040.1</td>\n",
       "            <td>KSC LC-39A</td>\n",
       "            <td>Boeing X-37B OTV-5</td>\n",
       "            <td>4990</td>\n",
       "            <td>LEO</td>\n",
       "            <td>U.S. Air Force</td>\n",
       "            <td>Success</td>\n",
       "            <td>Success (ground pad)</td>\n",
       "        </tr>\n",
       "        <tr>\n",
       "            <td>09-10-2017</td>\n",
       "            <td>12:37:00</td>\n",
       "            <td>F9 B4 B1041.1</td>\n",
       "            <td>VAFB SLC-4E</td>\n",
       "            <td>Iridium NEXT 3</td>\n",
       "            <td>9600</td>\n",
       "            <td>Polar LEO</td>\n",
       "            <td>Iridium Communications</td>\n",
       "            <td>Success</td>\n",
       "            <td>Success (drone ship)</td>\n",
       "        </tr>\n",
       "        <tr>\n",
       "            <td>11-10-2017</td>\n",
       "            <td>22:53:00</td>\n",
       "            <td>F9 FT  B1031.2</td>\n",
       "            <td>KSC LC-39A</td>\n",
       "            <td>SES-11 / EchoStar 105</td>\n",
       "            <td>5200</td>\n",
       "            <td>GTO</td>\n",
       "            <td>SES EchoStar</td>\n",
       "            <td>Success</td>\n",
       "            <td>Success (drone ship)</td>\n",
       "        </tr>\n",
       "        <tr>\n",
       "            <td>15-12-2017</td>\n",
       "            <td>15:36:00</td>\n",
       "            <td>F9 FT  B1035.2</td>\n",
       "            <td>CCAFS SLC-40</td>\n",
       "            <td>SpaceX CRS-13</td>\n",
       "            <td>2205</td>\n",
       "            <td>LEO (ISS)</td>\n",
       "            <td>NASA (CRS)</td>\n",
       "            <td>Success</td>\n",
       "            <td>Success (ground pad)</td>\n",
       "        </tr>\n",
       "        <tr>\n",
       "            <td>08-01-2018</td>\n",
       "            <td>01:00:00</td>\n",
       "            <td>F9 B4 B1043.1</td>\n",
       "            <td>CCAFS SLC-40</td>\n",
       "            <td>Zuma</td>\n",
       "            <td>5000</td>\n",
       "            <td>LEO</td>\n",
       "            <td>Northrop Grumman</td>\n",
       "            <td>Success (payload status unclear)</td>\n",
       "            <td>Success (ground pad)</td>\n",
       "        </tr>\n",
       "        <tr>\n",
       "            <td>18-04-2018</td>\n",
       "            <td>22:51:00</td>\n",
       "            <td>F9 B4 B1045.1</td>\n",
       "            <td>CCAFS SLC-40</td>\n",
       "            <td>Transiting Exoplanet Survey Satellite (TESS)</td>\n",
       "            <td>362</td>\n",
       "            <td>HEO</td>\n",
       "            <td>NASA (LSP)</td>\n",
       "            <td>Success</td>\n",
       "            <td>Success (drone ship)</td>\n",
       "        </tr>\n",
       "        <tr>\n",
       "            <td>11-05-2018</td>\n",
       "            <td>20:14:00</td>\n",
       "            <td>F9 B5  B1046.1</td>\n",
       "            <td>KSC LC-39A</td>\n",
       "            <td>Bangabandhu-1</td>\n",
       "            <td>3600</td>\n",
       "            <td>GTO</td>\n",
       "            <td>Thales-Alenia/BTRC</td>\n",
       "            <td>Success</td>\n",
       "            <td>Success (drone ship)</td>\n",
       "        </tr>\n",
       "        <tr>\n",
       "            <td>07-08-2018</td>\n",
       "            <td>05:18:00</td>\n",
       "            <td>F9 B5 B1046.2</td>\n",
       "            <td>CCAFS SLC-40</td>\n",
       "            <td>Merah Putih </td>\n",
       "            <td>5800</td>\n",
       "            <td>GTO</td>\n",
       "            <td>Telkom Indonesia</td>\n",
       "            <td>Success</td>\n",
       "            <td>Success</td>\n",
       "        </tr>\n",
       "        <tr>\n",
       "            <td>10-09-2018</td>\n",
       "            <td>04:45:00</td>\n",
       "            <td>F9 B5B1049.1</td>\n",
       "            <td>CCAFS SLC-40</td>\n",
       "            <td>Telstar 18V / Apstar-5C</td>\n",
       "            <td>7060</td>\n",
       "            <td>GTO</td>\n",
       "            <td>Telesat</td>\n",
       "            <td>Success</td>\n",
       "            <td>Success</td>\n",
       "        </tr>\n",
       "        <tr>\n",
       "            <td>08-10-2018</td>\n",
       "            <td>02:22:00</td>\n",
       "            <td>F9 B5 B1048.2</td>\n",
       "            <td>VAFB SLC-4E</td>\n",
       "            <td>SAOCOM 1A</td>\n",
       "            <td>3000</td>\n",
       "            <td>SSO</td>\n",
       "            <td>CONAE</td>\n",
       "            <td>Success</td>\n",
       "            <td>Success</td>\n",
       "        </tr>\n",
       "        <tr>\n",
       "            <td>15-11-2018</td>\n",
       "            <td>20:46:00</td>\n",
       "            <td>F9 B5 B1047.2</td>\n",
       "            <td>KSC LC-39A</td>\n",
       "            <td>Es hail 2</td>\n",
       "            <td>5300</td>\n",
       "            <td>GTO</td>\n",
       "            <td>Es hailSat</td>\n",
       "            <td>Success</td>\n",
       "            <td>Success</td>\n",
       "        </tr>\n",
       "        <tr>\n",
       "            <td>11-01-2019</td>\n",
       "            <td>15:31:00</td>\n",
       "            <td>F9 B5 B1049.2</td>\n",
       "            <td>VAFB SLC-4E</td>\n",
       "            <td>Iridium NEXT-8</td>\n",
       "            <td>9600</td>\n",
       "            <td>Polar LEO</td>\n",
       "            <td>Iridium Communications</td>\n",
       "            <td>Success</td>\n",
       "            <td>Success</td>\n",
       "        </tr>\n",
       "        <tr>\n",
       "            <td>12-06-2019</td>\n",
       "            <td>14:17:00</td>\n",
       "            <td>F9 B5 B1051.2 </td>\n",
       "            <td>VAFB SLC-4E</td>\n",
       "            <td>RADARSAT Constellation, SpaceX CRS-18 </td>\n",
       "            <td>4200</td>\n",
       "            <td>SSO</td>\n",
       "            <td>Canadian Space Agency (CSA)</td>\n",
       "            <td>Success</td>\n",
       "            <td>Success</td>\n",
       "        </tr>\n",
       "        <tr>\n",
       "            <td>11-11-2019</td>\n",
       "            <td>14:56:00</td>\n",
       "            <td>F9 B5 B1048.4</td>\n",
       "            <td>CCAFS SLC-40</td>\n",
       "            <td>Starlink 1 v1.0, SpaceX CRS-19 </td>\n",
       "            <td>15600</td>\n",
       "            <td>LEO</td>\n",
       "            <td>SpaceX</td>\n",
       "            <td>Success</td>\n",
       "            <td>Success</td>\n",
       "        </tr>\n",
       "        <tr>\n",
       "            <td>05-12-2019</td>\n",
       "            <td>17:29:00</td>\n",
       "            <td>F9 B5B1059.1</td>\n",
       "            <td>CCAFS SLC-40</td>\n",
       "            <td>SpaceX CRS-19, JCSat-18 / Kacific 1 </td>\n",
       "            <td>2617</td>\n",
       "            <td>LEO (ISS)</td>\n",
       "            <td>NASA (CRS), Kacific 1</td>\n",
       "            <td>Success</td>\n",
       "            <td>Success</td>\n",
       "        </tr>\n",
       "        <tr>\n",
       "            <td>17-12-2019</td>\n",
       "            <td>00:10:00</td>\n",
       "            <td>F9 B5 B1056.3 </td>\n",
       "            <td>CCAFS SLC-40</td>\n",
       "            <td>JCSat-18 / Kacific 1, Starlink 2 v1.0 </td>\n",
       "            <td>6956</td>\n",
       "            <td>GTO</td>\n",
       "            <td>Sky Perfect JSAT, Kacific 1</td>\n",
       "            <td>Success</td>\n",
       "            <td>Success</td>\n",
       "        </tr>\n",
       "        <tr>\n",
       "            <td>07-01-2020</td>\n",
       "            <td>02:33:00</td>\n",
       "            <td>F9 B5 B1049.4</td>\n",
       "            <td>CCAFS SLC-40</td>\n",
       "            <td>Starlink 2 v1.0, Crew Dragon in-flight abort test </td>\n",
       "            <td>15600</td>\n",
       "            <td>LEO</td>\n",
       "            <td>SpaceX</td>\n",
       "            <td>Success</td>\n",
       "            <td>Success</td>\n",
       "        </tr>\n",
       "        <tr>\n",
       "            <td>07-03-2020</td>\n",
       "            <td>04:50:00</td>\n",
       "            <td>F9 B5 B1059.2</td>\n",
       "            <td>CCAFS SLC-40</td>\n",
       "            <td>SpaceX CRS-20, Starlink 5 v1.0 </td>\n",
       "            <td>1977</td>\n",
       "            <td>LEO (ISS)</td>\n",
       "            <td>NASA (CRS)</td>\n",
       "            <td>Success</td>\n",
       "            <td>Success</td>\n",
       "        </tr>\n",
       "        <tr>\n",
       "            <td>04-06-2020</td>\n",
       "            <td>01:25:00</td>\n",
       "            <td>F9 B5 B1049.5</td>\n",
       "            <td>CCAFS SLC-40</td>\n",
       "            <td>Starlink 7 v1.0, Starlink 8 v1.0</td>\n",
       "            <td>15600</td>\n",
       "            <td>LEO</td>\n",
       "            <td>SpaceX, Planet Labs</td>\n",
       "            <td>Success</td>\n",
       "            <td>Success</td>\n",
       "        </tr>\n",
       "        <tr>\n",
       "            <td>13-06-2020</td>\n",
       "            <td>09:21:00</td>\n",
       "            <td>F9 B5 B1059.3</td>\n",
       "            <td>CCAFS SLC-40</td>\n",
       "            <td>Starlink 8 v1.0, SkySats-16, -17, -18, GPS III-03 </td>\n",
       "            <td>15410</td>\n",
       "            <td>LEO</td>\n",
       "            <td>SpaceX, Planet Labs</td>\n",
       "            <td>Success</td>\n",
       "            <td>Success</td>\n",
       "        </tr>\n",
       "        <tr>\n",
       "            <td>07-08-2020</td>\n",
       "            <td>05:12:00</td>\n",
       "            <td>F9 B5 B1051.5</td>\n",
       "            <td>KSC LC-39A</td>\n",
       "            <td>Starlink 9 v1.0, SXRS-1, Starlink 10 v1.0 </td>\n",
       "            <td>14932</td>\n",
       "            <td>LEO</td>\n",
       "            <td>SpaceX, Spaceflight Industries (BlackSky), Planet Labs</td>\n",
       "            <td>Success</td>\n",
       "            <td>Success</td>\n",
       "        </tr>\n",
       "        <tr>\n",
       "            <td>18-08-2020</td>\n",
       "            <td>14:31:00</td>\n",
       "            <td>F9 B5 B1049.6</td>\n",
       "            <td>CCAFS SLC-40</td>\n",
       "            <td>Starlink 10 v1.0, SkySat-19, -20, -21, SAOCOM 1B </td>\n",
       "            <td>15440</td>\n",
       "            <td>LEO</td>\n",
       "            <td>SpaceX, Planet Labs, PlanetIQ</td>\n",
       "            <td>Success</td>\n",
       "            <td>Success</td>\n",
       "        </tr>\n",
       "        <tr>\n",
       "            <td>06-10-2020</td>\n",
       "            <td>11:29:34</td>\n",
       "            <td>F9 B5 B1058.3 </td>\n",
       "            <td>KSC LC-39A</td>\n",
       "            <td>Starlink 12 v1.0, Starlink 13 v1.0 </td>\n",
       "            <td>15600</td>\n",
       "            <td>LEO</td>\n",
       "            <td>SpaceX</td>\n",
       "            <td>Success</td>\n",
       "            <td>Success</td>\n",
       "        </tr>\n",
       "        <tr>\n",
       "            <td>18-10-2020</td>\n",
       "            <td>12:25:57</td>\n",
       "            <td>F9 B5 B1051.6</td>\n",
       "            <td>KSC LC-39A</td>\n",
       "            <td>Starlink 13 v1.0, Starlink 14 v1.0 </td>\n",
       "            <td>15600</td>\n",
       "            <td>LEO</td>\n",
       "            <td>SpaceX</td>\n",
       "            <td>Success</td>\n",
       "            <td>Success</td>\n",
       "        </tr>\n",
       "        <tr>\n",
       "            <td>05-11-2020</td>\n",
       "            <td>23:24:23</td>\n",
       "            <td>F9 B5B1062.1</td>\n",
       "            <td>CCAFS SLC-40</td>\n",
       "            <td>GPS III-04 , Crew-1</td>\n",
       "            <td>4311</td>\n",
       "            <td>MEO</td>\n",
       "            <td>USSF</td>\n",
       "            <td>Success</td>\n",
       "            <td>Success</td>\n",
       "        </tr>\n",
       "        <tr>\n",
       "            <td>16-11-2020</td>\n",
       "            <td>00:27:00</td>\n",
       "            <td>F9 B5B1061.1 </td>\n",
       "            <td>KSC LC-39A</td>\n",
       "            <td>Crew-1, Sentinel-6 Michael Freilich </td>\n",
       "            <td>12500</td>\n",
       "            <td>LEO (ISS)</td>\n",
       "            <td>NASA (CCP)</td>\n",
       "            <td>Success</td>\n",
       "            <td>Success</td>\n",
       "        </tr>\n",
       "        <tr>\n",
       "            <td>06-12-2020</td>\n",
       "            <td>16:17:08</td>\n",
       "            <td>F9 B5 B1058.4 </td>\n",
       "            <td>KSC LC-39A</td>\n",
       "            <td>SpaceX CRS-21</td>\n",
       "            <td>2972</td>\n",
       "            <td>LEO (ISS)</td>\n",
       "            <td>NASA (CRS)</td>\n",
       "            <td>Success</td>\n",
       "            <td>Success</td>\n",
       "        </tr>\n",
       "    </tbody>\n",
       "</table>"
      ],
      "text/plain": [
       "[('08-04-2016', '20:43:00', 'F9 FT B1021.1', 'CCAFS LC-40', 'SpaceX CRS-8', 3136, 'LEO (ISS)', 'NASA (CRS)', 'Success', 'Success (drone ship)'),\n",
       " ('06-05-2016', '05:21:00', 'F9 FT B1022', 'CCAFS LC-40', 'JCSAT-14', 4696, 'GTO', 'SKY Perfect JSAT Group', 'Success', 'Success (drone ship)'),\n",
       " ('18-07-2016', '04:45:00', 'F9 FT B1025.1', 'CCAFS LC-40', 'SpaceX CRS-9', 2257, 'LEO (ISS)', 'NASA (CRS)', 'Success', 'Success (ground pad)'),\n",
       " ('14-08-2016', '05:26:00', 'F9 FT B1026', 'CCAFS LC-40', 'JCSAT-16', 4600, 'GTO', 'SKY Perfect JSAT Group', 'Success', 'Success (drone ship)'),\n",
       " ('14-01-2017', '17:54:00', 'F9 FT B1029.1', 'VAFB SLC-4E', 'Iridium NEXT 1', 9600, 'Polar LEO', 'Iridium Communications', 'Success', 'Success (drone ship)'),\n",
       " ('19-02-2017', '14:39:00', 'F9 FT B1031.1', 'KSC LC-39A', 'SpaceX CRS-10', 2490, 'LEO (ISS)', 'NASA (CRS)', 'Success', 'Success (ground pad)'),\n",
       " ('14-08-2017', '16:31:00', 'F9 B4 B1039.1', 'KSC LC-39A', 'SpaceX CRS-12', 3310, 'LEO (ISS)', 'NASA (CRS)', 'Success', 'Success (ground pad)'),\n",
       " ('07-09-2017', '14:00:00', 'F9 B4 B1040.1', 'KSC LC-39A', 'Boeing X-37B OTV-5', 4990, 'LEO', 'U.S. Air Force', 'Success', 'Success (ground pad)'),\n",
       " ('09-10-2017', '12:37:00', 'F9 B4 B1041.1', 'VAFB SLC-4E', 'Iridium NEXT 3', 9600, 'Polar LEO', 'Iridium Communications', 'Success', 'Success (drone ship)'),\n",
       " ('11-10-2017', '22:53:00', 'F9 FT  B1031.2', 'KSC LC-39A', 'SES-11 / EchoStar 105', 5200, 'GTO', 'SES EchoStar', 'Success', 'Success (drone ship)'),\n",
       " ('15-12-2017', '15:36:00', 'F9 FT  B1035.2', 'CCAFS SLC-40', 'SpaceX CRS-13', 2205, 'LEO (ISS)', 'NASA (CRS)', 'Success', 'Success (ground pad)'),\n",
       " ('08-01-2018', '01:00:00', 'F9 B4 B1043.1', 'CCAFS SLC-40', 'Zuma', 5000, 'LEO', 'Northrop Grumman', 'Success (payload status unclear)', 'Success (ground pad)'),\n",
       " ('18-04-2018', '22:51:00', 'F9 B4 B1045.1', 'CCAFS SLC-40', 'Transiting Exoplanet Survey Satellite (TESS)', 362, 'HEO', 'NASA (LSP)', 'Success', 'Success (drone ship)'),\n",
       " ('11-05-2018', '20:14:00', 'F9 B5  B1046.1', 'KSC LC-39A', 'Bangabandhu-1', 3600, 'GTO', 'Thales-Alenia/BTRC', 'Success', 'Success (drone ship)'),\n",
       " ('07-08-2018', '05:18:00', 'F9 B5 B1046.2', 'CCAFS SLC-40', 'Merah Putih ', 5800, 'GTO', 'Telkom Indonesia', 'Success', 'Success'),\n",
       " ('10-09-2018', '04:45:00', 'F9 B5B1049.1', 'CCAFS SLC-40', 'Telstar 18V / Apstar-5C', 7060, 'GTO', 'Telesat', 'Success', 'Success'),\n",
       " ('08-10-2018', '02:22:00', 'F9 B5 B1048.2', 'VAFB SLC-4E', 'SAOCOM 1A', 3000, 'SSO', 'CONAE', 'Success', 'Success'),\n",
       " ('15-11-2018', '20:46:00', 'F9 B5 B1047.2', 'KSC LC-39A', 'Es hail 2', 5300, 'GTO', 'Es hailSat', 'Success', 'Success'),\n",
       " ('11-01-2019', '15:31:00', 'F9 B5 B1049.2', 'VAFB SLC-4E', 'Iridium NEXT-8', 9600, 'Polar LEO', 'Iridium Communications', 'Success', 'Success'),\n",
       " ('12-06-2019', '14:17:00', 'F9 B5 B1051.2 ', 'VAFB SLC-4E', 'RADARSAT Constellation, SpaceX CRS-18 ', 4200, 'SSO', 'Canadian Space Agency (CSA)', 'Success', 'Success'),\n",
       " ('11-11-2019', '14:56:00', 'F9 B5 B1048.4', 'CCAFS SLC-40', 'Starlink 1 v1.0, SpaceX CRS-19 ', 15600, 'LEO', 'SpaceX', 'Success', 'Success'),\n",
       " ('05-12-2019', '17:29:00', 'F9 B5B1059.1', 'CCAFS SLC-40', 'SpaceX CRS-19, JCSat-18 / Kacific 1 ', 2617, 'LEO (ISS)', 'NASA (CRS), Kacific 1', 'Success', 'Success'),\n",
       " ('17-12-2019', '00:10:00', 'F9 B5 B1056.3 ', 'CCAFS SLC-40', 'JCSat-18 / Kacific 1, Starlink 2 v1.0 ', 6956, 'GTO', 'Sky Perfect JSAT, Kacific 1', 'Success', 'Success'),\n",
       " ('07-01-2020', '02:33:00', 'F9 B5 B1049.4', 'CCAFS SLC-40', 'Starlink 2 v1.0, Crew Dragon in-flight abort test ', 15600, 'LEO', 'SpaceX', 'Success', 'Success'),\n",
       " ('07-03-2020', '04:50:00', 'F9 B5 B1059.2', 'CCAFS SLC-40', 'SpaceX CRS-20, Starlink 5 v1.0 ', 1977, 'LEO (ISS)', 'NASA (CRS)', 'Success', 'Success'),\n",
       " ('04-06-2020', '01:25:00', 'F9 B5 B1049.5', 'CCAFS SLC-40', 'Starlink 7 v1.0, Starlink 8 v1.0', 15600, 'LEO', 'SpaceX, Planet Labs', 'Success', 'Success'),\n",
       " ('13-06-2020', '09:21:00', 'F9 B5 B1059.3', 'CCAFS SLC-40', 'Starlink 8 v1.0, SkySats-16, -17, -18, GPS III-03 ', 15410, 'LEO', 'SpaceX, Planet Labs', 'Success', 'Success'),\n",
       " ('07-08-2020', '05:12:00', 'F9 B5 B1051.5', 'KSC LC-39A', 'Starlink 9 v1.0, SXRS-1, Starlink 10 v1.0 ', 14932, 'LEO', 'SpaceX, Spaceflight Industries (BlackSky), Planet Labs', 'Success', 'Success'),\n",
       " ('18-08-2020', '14:31:00', 'F9 B5 B1049.6', 'CCAFS SLC-40', 'Starlink 10 v1.0, SkySat-19, -20, -21, SAOCOM 1B ', 15440, 'LEO', 'SpaceX, Planet Labs, PlanetIQ', 'Success', 'Success'),\n",
       " ('06-10-2020', '11:29:34', 'F9 B5 B1058.3 ', 'KSC LC-39A', 'Starlink 12 v1.0, Starlink 13 v1.0 ', 15600, 'LEO', 'SpaceX', 'Success', 'Success'),\n",
       " ('18-10-2020', '12:25:57', 'F9 B5 B1051.6', 'KSC LC-39A', 'Starlink 13 v1.0, Starlink 14 v1.0 ', 15600, 'LEO', 'SpaceX', 'Success', 'Success'),\n",
       " ('05-11-2020', '23:24:23', 'F9 B5B1062.1', 'CCAFS SLC-40', 'GPS III-04 , Crew-1', 4311, 'MEO', 'USSF', 'Success', 'Success'),\n",
       " ('16-11-2020', '00:27:00', 'F9 B5B1061.1 ', 'KSC LC-39A', 'Crew-1, Sentinel-6 Michael Freilich ', 12500, 'LEO (ISS)', 'NASA (CCP)', 'Success', 'Success'),\n",
       " ('06-12-2020', '16:17:08', 'F9 B5 B1058.4 ', 'KSC LC-39A', 'SpaceX CRS-21', 2972, 'LEO (ISS)', 'NASA (CRS)', 'Success', 'Success')]"
      ]
     },
     "execution_count": 36,
     "metadata": {},
     "output_type": "execute_result"
    }
   ],
   "source": [
    "%%sql\n",
    "SELECT * FROM SPACEXTBL\n",
    "WHERE \"Landing _Outcome\" LIKE \"%Success%\"\n",
    "AND Date BETWEEN '04-06-2010' AND '20-03-2017'\n",
    ";"
   ]
  },
  {
   "cell_type": "code",
   "execution_count": 39,
   "metadata": {},
   "outputs": [
    {
     "name": "stdout",
     "output_type": "stream",
     "text": [
      " * sqlite:///my_data1.db\n",
      "Done.\n"
     ]
    },
    {
     "data": {
      "text/html": [
       "<table>\n",
       "    <thead>\n",
       "        <tr>\n",
       "            <th>Landing _Outcome</th>\n",
       "            <th>LANDING_OUTCOME_COUNT</th>\n",
       "            <th>Date</th>\n",
       "        </tr>\n",
       "    </thead>\n",
       "    <tbody>\n",
       "        <tr>\n",
       "            <td>Controlled (ocean)</td>\n",
       "            <td>3</td>\n",
       "            <td>18-04-2014</td>\n",
       "        </tr>\n",
       "        <tr>\n",
       "            <td>Failure</td>\n",
       "            <td>3</td>\n",
       "            <td>05-12-2018</td>\n",
       "        </tr>\n",
       "        <tr>\n",
       "            <td>Failure (drone ship)</td>\n",
       "            <td>4</td>\n",
       "            <td>10-01-2015</td>\n",
       "        </tr>\n",
       "        <tr>\n",
       "            <td>Failure (parachute)</td>\n",
       "            <td>2</td>\n",
       "            <td>04-06-2010</td>\n",
       "        </tr>\n",
       "        <tr>\n",
       "            <td>No attempt</td>\n",
       "            <td>10</td>\n",
       "            <td>08-10-2012</td>\n",
       "        </tr>\n",
       "        <tr>\n",
       "            <td>No attempt </td>\n",
       "            <td>1</td>\n",
       "            <td>06-08-2019</td>\n",
       "        </tr>\n",
       "        <tr>\n",
       "            <td>Success</td>\n",
       "            <td>20</td>\n",
       "            <td>07-08-2018</td>\n",
       "        </tr>\n",
       "        <tr>\n",
       "            <td>Success (drone ship)</td>\n",
       "            <td>8</td>\n",
       "            <td>08-04-2016</td>\n",
       "        </tr>\n",
       "        <tr>\n",
       "            <td>Success (ground pad)</td>\n",
       "            <td>6</td>\n",
       "            <td>18-07-2016</td>\n",
       "        </tr>\n",
       "    </tbody>\n",
       "</table>"
      ],
      "text/plain": [
       "[('Controlled (ocean)', 3, '18-04-2014'),\n",
       " ('Failure', 3, '05-12-2018'),\n",
       " ('Failure (drone ship)', 4, '10-01-2015'),\n",
       " ('Failure (parachute)', 2, '04-06-2010'),\n",
       " ('No attempt', 10, '08-10-2012'),\n",
       " ('No attempt ', 1, '06-08-2019'),\n",
       " ('Success', 20, '07-08-2018'),\n",
       " ('Success (drone ship)', 8, '08-04-2016'),\n",
       " ('Success (ground pad)', 6, '18-07-2016')]"
      ]
     },
     "execution_count": 39,
     "metadata": {},
     "output_type": "execute_result"
    }
   ],
   "source": [
    "%%sql\n",
    "SELECT \"Landing _Outcome\",count(\"Landing _Outcome\") as LANDING_OUTCOME_COUNT,DATE\n",
    "\n",
    "from SPACEXTBL where Date between  '04-06-2010' and '20-03-2017' group by \"Landing _Outcome\""
   ]
  },
  {
   "cell_type": "code",
   "execution_count": 41,
   "metadata": {},
   "outputs": [
    {
     "name": "stdout",
     "output_type": "stream",
     "text": [
      " * sqlite:///my_data1.db\n",
      "Done.\n"
     ]
    },
    {
     "data": {
      "text/html": [
       "<table>\n",
       "    <thead>\n",
       "        <tr>\n",
       "            <th>Date</th>\n",
       "            <th>Landing _Outcome</th>\n",
       "            <th>Count</th>\n",
       "        </tr>\n",
       "    </thead>\n",
       "    <tbody>\n",
       "        <tr>\n",
       "            <td>07-08-2018</td>\n",
       "            <td>Success</td>\n",
       "            <td>20</td>\n",
       "        </tr>\n",
       "        <tr>\n",
       "            <td>08-04-2016</td>\n",
       "            <td>Success (drone ship)</td>\n",
       "            <td>8</td>\n",
       "        </tr>\n",
       "        <tr>\n",
       "            <td>18-07-2016</td>\n",
       "            <td>Success (ground pad)</td>\n",
       "            <td>6</td>\n",
       "        </tr>\n",
       "    </tbody>\n",
       "</table>"
      ],
      "text/plain": [
       "[('07-08-2018', 'Success', 20),\n",
       " ('08-04-2016', 'Success (drone ship)', 8),\n",
       " ('18-07-2016', 'Success (ground pad)', 6)]"
      ]
     },
     "execution_count": 41,
     "metadata": {},
     "output_type": "execute_result"
    }
   ],
   "source": [
    "%%sql \n",
    "\n",
    "select \"Date\", \"Landing _Outcome\", count(\"Landing _Outcome\") as \"Count\"\n",
    "from spacextbl where \"Landing _Outcome\" like \"Success%\"\n",
    "and \"Date\" between \"04-06-2010\" and \"20-03-2017\"\n",
    "group by \"Landing _Outcome\" order by \"Count\" desc;"
   ]
  },
  {
   "cell_type": "code",
   "execution_count": 43,
   "metadata": {},
   "outputs": [
    {
     "name": "stdout",
     "output_type": "stream",
     "text": [
      " * sqlite:///my_data1.db\n",
      "Done.\n"
     ]
    },
    {
     "data": {
      "text/html": [
       "<table>\n",
       "    <thead>\n",
       "        <tr>\n",
       "            <th>Landing _Outcome</th>\n",
       "            <th>LANDING_OUTCOME_COUNT</th>\n",
       "            <th>Date</th>\n",
       "        </tr>\n",
       "    </thead>\n",
       "    <tbody>\n",
       "        <tr>\n",
       "            <td>Success (drone ship)</td>\n",
       "            <td>5</td>\n",
       "            <td>08-04-2016</td>\n",
       "        </tr>\n",
       "        <tr>\n",
       "            <td>Success (ground pad)</td>\n",
       "            <td>3</td>\n",
       "            <td>22-12-2015</td>\n",
       "        </tr>\n",
       "    </tbody>\n",
       "</table>"
      ],
      "text/plain": [
       "[('Success (drone ship)', 5, '08-04-2016'),\n",
       " ('Success (ground pad)', 3, '22-12-2015')]"
      ]
     },
     "execution_count": 43,
     "metadata": {},
     "output_type": "execute_result"
    }
   ],
   "source": [
    "%%sql\n",
    "\n",
    "\n",
    "SELECT \"Landing _Outcome\",count(\"Landing _Outcome\")as LANDING_OUTCOME_COUNT,DATE\n",
    "\n",
    "from SPACEXTBL where substr(Date,7,4) || substr(Date,4,2) || substr(Date,1,2) between '20100604'\n",
    "\n",
    "and '20170320'and \"Landing _Outcome\" like \"Success%\"\n",
    "\n",
    "group by \"Landing _Outcome\" order by count(\"Landing _Outcome\") desc"
   ]
  },
  {
   "cell_type": "code",
   "execution_count": 45,
   "metadata": {},
   "outputs": [
    {
     "name": "stdout",
     "output_type": "stream",
     "text": [
      " * sqlite:///my_data1.db\n",
      "Done.\n"
     ]
    },
    {
     "data": {
      "text/html": [
       "<table>\n",
       "    <thead>\n",
       "        <tr>\n",
       "            <th>MAX(Date)</th>\n",
       "        </tr>\n",
       "    </thead>\n",
       "    <tbody>\n",
       "        <tr>\n",
       "            <td>31-01-2018</td>\n",
       "        </tr>\n",
       "    </tbody>\n",
       "</table>"
      ],
      "text/plain": [
       "[('31-01-2018',)]"
      ]
     },
     "execution_count": 45,
     "metadata": {},
     "output_type": "execute_result"
    }
   ],
   "source": [
    "%sql SELECT MAX(Date) FROM SPACEXTBL ;"
   ]
  },
  {
   "cell_type": "markdown",
   "metadata": {},
   "source": [
    "### Reference Links\n",
    "\n",
    "* <a href =\"https://cf-courses-data.s3.us.cloud-object-storage.appdomain.cloud/IBMDeveloperSkillsNetwork-DB0201EN-SkillsNetwork/labs/Labs_Coursera_V5/labs/Lab%20-%20String%20Patterns%20-%20Sorting%20-%20Grouping/instructional-labs.md.html?origin=www.coursera.org\">Hands-on Lab : String Patterns, Sorting and Grouping</a>  \n",
    "\n",
    "*  <a  href=\"https://cf-courses-data.s3.us.cloud-object-storage.appdomain.cloud/IBMDeveloperSkillsNetwork-DB0201EN-SkillsNetwork/labs/Labs_Coursera_V5/labs/Lab%20-%20Built-in%20functions%20/Hands-on_Lab__Built-in_Functions.md.html?origin=www.coursera.org\">Hands-on Lab: Built-in functions</a>\n",
    "\n",
    "*  <a  href=\"https://cf-courses-data.s3.us.cloud-object-storage.appdomain.cloud/IBMDeveloperSkillsNetwork-DB0201EN-SkillsNetwork/labs/Labs_Coursera_V5/labs/Lab%20-%20Sub-queries%20and%20Nested%20SELECTs%20/instructional-labs.md.html?origin=www.coursera.org\">Hands-on Lab : Sub-queries and Nested SELECT Statements</a>\n",
    "\n",
    "*   <a href=\"https://cf-courses-data.s3.us.cloud-object-storage.appdomain.cloud/IBMDeveloperSkillsNetwork-DB0201EN-SkillsNetwork/labs/Module%205/DB0201EN-Week3-1-3-SQLmagic.ipynb\">Hands-on Tutorial: Accessing Databases with SQL magic</a>\n",
    "\n",
    "*  <a href= \"https://cf-courses-data.s3.us.cloud-object-storage.appdomain.cloud/IBMDeveloperSkillsNetwork-DB0201EN-SkillsNetwork/labs/Module%205/DB0201EN-Week3-1-4-Analyzing.ipynb\">Hands-on Lab: Analyzing a real World Data Set</a>\n",
    "\n",
    "\n"
   ]
  },
  {
   "cell_type": "markdown",
   "metadata": {},
   "source": [
    "## Author(s)\n",
    "\n",
    "<h4> Lakshmi Holla </h4>\n"
   ]
  },
  {
   "cell_type": "markdown",
   "metadata": {},
   "source": [
    "## Other Contributors\n",
    "\n",
    "<h4> Rav Ahuja </h4>\n"
   ]
  },
  {
   "cell_type": "markdown",
   "metadata": {},
   "source": [
    "## Change log\n",
    "| Date | Version | Changed by | Change Description |\n",
    "|------|--------|--------|---------|\n",
    "| 2021-07-09 | 0.2 |Lakshmi Holla | Changes made in magic sql|\n",
    "| 2021-05-20 | 0.1 |Lakshmi Holla | Created Initial Version |\n"
   ]
  },
  {
   "cell_type": "markdown",
   "metadata": {},
   "source": [
    "## <h3 align=\"center\"> © IBM Corporation 2021. All rights reserved. <h3/>\n"
   ]
  }
 ],
 "metadata": {
  "kernelspec": {
   "display_name": "Python 3 (ipykernel)",
   "language": "python",
   "name": "python3"
  },
  "language_info": {
   "codemirror_mode": {
    "name": "ipython",
    "version": 3
   },
   "file_extension": ".py",
   "mimetype": "text/x-python",
   "name": "python",
   "nbconvert_exporter": "python",
   "pygments_lexer": "ipython3",
   "version": "3.9.13"
  }
 },
 "nbformat": 4,
 "nbformat_minor": 4
}
